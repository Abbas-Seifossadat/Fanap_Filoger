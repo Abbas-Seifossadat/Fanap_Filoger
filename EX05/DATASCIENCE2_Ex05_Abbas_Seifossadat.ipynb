{
 "cells": [
  {
   "cell_type": "markdown",
   "metadata": {
    "id": "7AfkBfCcghFA"
   },
   "source": [
    "# <p style=\"background-color:#fdf6e3; padding:10px; border-style: solid; font-family:'Comic Sans MS', cursive; color:#dc322f; font-size:140%; text-align:center; border-radius:25px 60px;\">Marketing A/B Testing</p>"
   ]
  },
  {
   "cell_type": "markdown",
   "metadata": {
    "id": "Pqnb9UU7ghFQ"
   },
   "source": [
    "<img src=\"https://www.travelpayouts.com/blog/wp-content/uploads/2018/11/ab-testing.jpg\" alt=\"ABTest\">"
   ]
  },
  {
   "cell_type": "markdown",
   "metadata": {
    "id": "xWC-dq_PghFS"
   },
   "source": [
    "<a id=\"table of content\"></a>\n",
    "# <p style=\"background-color:#fdf6e3; padding:10px; border-style: solid; font-family:'Comic Sans MS', cursive; color:#657b83; font-size:150%;text-align:center;border-radius:20px 60px;\"> Table of Content</p>\n",
    "\n",
    "<a id=\"contents_tabel\"></a>   \n",
    "\n",
    "* [1. Importing Libraries](#1)\n",
    "    \n",
    "* [2. Loading the Dataset](#2)\n",
    "    \n",
    "* [3. Dataset Overview](#3)  \n",
    "    \n",
    "* [4. EDA & Visualization](#4)  \n",
    "\n",
    "* [5. Hypotheses](#5)\n",
    "    \n",
    "* [6. Chi2Test](#6)\n",
    "\n",
    "* [7. ABTest (BINOMIAL distribution)](#7)\n",
    "\n",
    "* [8. ABTest (from scratch)](#8)\n",
    "\n",
    "* [9. T-Test](#9)\n",
    "\n",
    "* [10. Additional Statistics Test](#10)"
   ]
  },
  {
   "cell_type": "markdown",
   "metadata": {
    "id": "oEZzl1VPvxBW"
   },
   "source": [
    "<a id=\"1\"></a>\n",
    "# <p style=\"background-color:#fdf6e3; padding:10px; border-style: solid; font-family:'Comic Sans MS', cursive; color:#657b83; font-size:150%;text-align:center;border-radius:20px 60px;\"> Importing Libraries</p>\n",
    "⬆️ [Tabel of Contents](#contents_tabel)"
   ]
  },
  {
   "cell_type": "code",
   "execution_count": 1,
   "metadata": {
    "id": "Z6JwCbyEwD_x"
   },
   "outputs": [],
   "source": [
    "import pandas as pd\n",
    "import numpy as np\n",
    "import matplotlib.pyplot as plt\n",
    "from scipy import stats\n",
    "import seaborn as sns\n",
    "import warnings"
   ]
  },
  {
   "cell_type": "markdown",
   "metadata": {
    "id": "07pwZzrgghFd"
   },
   "source": [
    "<a id=\"2\"></a>\n",
    "# <p style=\"background-color:#fdf6e3; padding:10px; border-style: solid; font-family:'Comic Sans MS', cursive; color:#657b83; font-size:150%;text-align:center;border-radius:20px 60px;\"> Loading the Dataset</p>\n",
    "⬆️ [Tabel of Contents](#contents_tabel)"
   ]
  },
  {
   "cell_type": "code",
   "execution_count": 32,
   "metadata": {
    "colab": {
     "base_uri": "https://localhost:8080/"
    },
    "id": "kRDmSkTIwHnF",
    "outputId": "72f752c6-9806-402f-f3ec-be8484c0f0aa"
   },
   "outputs": [
    {
     "name": "stdout",
     "output_type": "stream",
     "text": [
      "/usr/local/lib/python3.10/dist-packages/gdown/cli.py:138: FutureWarning: Option `--id` was deprecated in version 4.3.1 and will be removed in 5.0. You don't need to pass it anymore to use a file ID.\n",
      "  warnings.warn(\n",
      "Downloading...\n",
      "From: https://drive.google.com/uc?id=1W7G-vrzvazCVtlw36CVSlYpaT3Vjnrzi\n",
      "To: /content/marketing_AB.csv\n",
      "100% 22.0M/22.0M [00:00<00:00, 173MB/s]\n"
     ]
    }
   ],
   "source": [
    "!gdown --id 1W7G-vrzvazCVtlw36CVSlYpaT3Vjnrzi"
   ]
  },
  {
   "cell_type": "code",
   "execution_count": 2,
   "metadata": {
    "id": "4w2kOrfTweMb"
   },
   "outputs": [],
   "source": [
    "data = pd.read_csv('marketing_AB.csv')"
   ]
  },
  {
   "cell_type": "markdown",
   "metadata": {
    "id": "FeyOFYjIv6Ej"
   },
   "source": [
    "<a id=\"3\"></a>\n",
    "# <p style=\"background-color:#fdf6e3; padding:10px; border-style: solid; font-family:'Comic Sans MS', cursive; color:#657b83; font-size:150%;text-align:center;border-radius:20px 60px;\"> Dataset Overview</p>\n",
    "⬆️ [Tabel of Contents](#contents_tabel)"
   ]
  },
  {
   "cell_type": "markdown",
   "metadata": {
    "id": "t5U1zv0YghFk"
   },
   "source": [
    "<p style=\"font-family:Comic Sans MS', cursive; font-size:120%; color:#2AAA8A;\">The following table shows the names of each variable (column) and their description:\n",
    "</p>\n",
    "<br>\n",
    "    <br>\n",
    "\n",
    "\n",
    "<table align=\"center\" rules=\"all\"  style=\"width: 100%;font-family:'Comic Sans MS', cursive;\">\n",
    "\n",
    "  <thead>\n",
    "    <tr style=\"background-color: #fdf6e3;border: 3px solid black;\">\n",
    "      <th style=\"width:35%; text-align:center; font-weight: bold;color:#000080; font-size: 18px;\">Variable Name</th>\n",
    "      <th style=\"text-align:center; font-weight: bold;color:#000080; font-size: 18px;\">Description</th>\n",
    "    </tr>\n",
    "  </thead>\n",
    "  <tbody>\n",
    "    <tr style=\"background-color: white;border: 1px solid black;border-color:grey \">\n",
    "      <td style=\"text-align:left; font-size: 16px;color:#000080\">user id</td>\n",
    "      <td style=\"text-align:left; font-size: 14px;color:#000080\">  User ID (unique).</td>\n",
    "    </tr >\n",
    "    <tr style=\"background-color: white;border: 1px solid black;border-color:grey\">\n",
    "      <td style=\"text-align:left;font-size: 16px;color:#000080\" >test group</td>\n",
    "      <td style=\"text-align:left;font-size: 14px;color:#000080\">If \"ad\" the person saw the advertisement, if \"psa\" they only saw the public service announcement </td>\n",
    "    </tr>\n",
    "    <tr style=\"background-color: white;border: 1px solid black;border-color:grey\">\n",
    "      <td style=\"text-align:left; font-size: 16px;color:#000080 \">converted</td>\n",
    "      <td style=\"text-align:left;font-size: 14px;color:#000080\">If a person bought the product then True, else is False.</td>\n",
    "    </tr>\n",
    "    <tr style=\"background-color: white;border: 1px solid black;border-color:grey\">\n",
    "      <td style=\"text-align:left;font-size: 16px;color:#000080 \">total ads</td>\n",
    "      <td style=\"text-align:left;font-size: 14px;color:#000080\">Amount of ads seen by person </td>\n",
    "    </tr>\n",
    "    <tr style=\"background-color: white;border: 1px solid black;border-color:grey\">\n",
    "      <td style=\"text-align:left;font-size: 16px;color:#000080\">most ads day</td>\n",
    "      <td style=\"text-align:left;font-size: 14px;color:#000080\">Day that the person saw the biggest amount of ads </td>\n",
    "    </tr>\n",
    "    <tr style=\"background-color: white;border: 1px solid black;border-color:grey\">\n",
    "      <td style=\"text-align:left;font-size: 16px;color:#000080 \">most ads hour</td>\n",
    "      <td style=\"text-align:left;font-size: 14px;color:#000080\">Hour of day that the person saw the biggest amount of ads.</td>\n",
    "    </tr>\n",
    "  </tbody>\n",
    "</table>"
   ]
  },
  {
   "cell_type": "code",
   "execution_count": 3,
   "metadata": {
    "colab": {
     "base_uri": "https://localhost:8080/",
     "height": 206
    },
    "id": "OsJeU9CrwnW0",
    "outputId": "9b6d02d2-fe44-40e3-ade9-c746b3e2c5b7"
   },
   "outputs": [
    {
     "data": {
      "text/html": [
       "<div>\n",
       "<style scoped>\n",
       "    .dataframe tbody tr th:only-of-type {\n",
       "        vertical-align: middle;\n",
       "    }\n",
       "\n",
       "    .dataframe tbody tr th {\n",
       "        vertical-align: top;\n",
       "    }\n",
       "\n",
       "    .dataframe thead th {\n",
       "        text-align: right;\n",
       "    }\n",
       "</style>\n",
       "<table border=\"1\" class=\"dataframe\">\n",
       "  <thead>\n",
       "    <tr style=\"text-align: right;\">\n",
       "      <th></th>\n",
       "      <th>Unnamed: 0</th>\n",
       "      <th>user id</th>\n",
       "      <th>test group</th>\n",
       "      <th>converted</th>\n",
       "      <th>total ads</th>\n",
       "      <th>most ads day</th>\n",
       "      <th>most ads hour</th>\n",
       "    </tr>\n",
       "  </thead>\n",
       "  <tbody>\n",
       "    <tr>\n",
       "      <th>0</th>\n",
       "      <td>0</td>\n",
       "      <td>1069124</td>\n",
       "      <td>ad</td>\n",
       "      <td>False</td>\n",
       "      <td>130</td>\n",
       "      <td>Monday</td>\n",
       "      <td>20</td>\n",
       "    </tr>\n",
       "    <tr>\n",
       "      <th>1</th>\n",
       "      <td>1</td>\n",
       "      <td>1119715</td>\n",
       "      <td>ad</td>\n",
       "      <td>False</td>\n",
       "      <td>93</td>\n",
       "      <td>Tuesday</td>\n",
       "      <td>22</td>\n",
       "    </tr>\n",
       "    <tr>\n",
       "      <th>2</th>\n",
       "      <td>2</td>\n",
       "      <td>1144181</td>\n",
       "      <td>ad</td>\n",
       "      <td>False</td>\n",
       "      <td>21</td>\n",
       "      <td>Tuesday</td>\n",
       "      <td>18</td>\n",
       "    </tr>\n",
       "    <tr>\n",
       "      <th>3</th>\n",
       "      <td>3</td>\n",
       "      <td>1435133</td>\n",
       "      <td>ad</td>\n",
       "      <td>False</td>\n",
       "      <td>355</td>\n",
       "      <td>Tuesday</td>\n",
       "      <td>10</td>\n",
       "    </tr>\n",
       "    <tr>\n",
       "      <th>4</th>\n",
       "      <td>4</td>\n",
       "      <td>1015700</td>\n",
       "      <td>ad</td>\n",
       "      <td>False</td>\n",
       "      <td>276</td>\n",
       "      <td>Friday</td>\n",
       "      <td>14</td>\n",
       "    </tr>\n",
       "  </tbody>\n",
       "</table>\n",
       "</div>"
      ],
      "text/plain": [
       "   Unnamed: 0  user id test group  converted  total ads most ads day  \\\n",
       "0           0  1069124         ad      False        130       Monday   \n",
       "1           1  1119715         ad      False         93      Tuesday   \n",
       "2           2  1144181         ad      False         21      Tuesday   \n",
       "3           3  1435133         ad      False        355      Tuesday   \n",
       "4           4  1015700         ad      False        276       Friday   \n",
       "\n",
       "   most ads hour  \n",
       "0             20  \n",
       "1             22  \n",
       "2             18  \n",
       "3             10  \n",
       "4             14  "
      ]
     },
     "execution_count": 3,
     "metadata": {},
     "output_type": "execute_result"
    }
   ],
   "source": [
    "data.head(5)"
   ]
  },
  {
   "cell_type": "code",
   "execution_count": 4,
   "metadata": {
    "colab": {
     "base_uri": "https://localhost:8080/"
    },
    "id": "sKo2vTsrxAPr",
    "outputId": "72efb71f-955e-434f-9eb8-0e28e0e173ff"
   },
   "outputs": [
    {
     "name": "stdout",
     "output_type": "stream",
     "text": [
      "The Shape of Dataset:\n",
      "Number of rows: 588101\n",
      "Number of columns: 7\n"
     ]
    }
   ],
   "source": [
    "print(f'The Shape of Dataset:\\nNumber of rows: {data.shape[0]}\\nNumber of columns: {data.shape[1]}')"
   ]
  },
  {
   "cell_type": "code",
   "execution_count": 5,
   "metadata": {
    "colab": {
     "base_uri": "https://localhost:8080/"
    },
    "id": "pnICj0ZaxdLu",
    "outputId": "714e0b74-361c-4c3a-88eb-19b1bbe84553"
   },
   "outputs": [
    {
     "name": "stdout",
     "output_type": "stream",
     "text": [
      "<class 'pandas.core.frame.DataFrame'>\n",
      "RangeIndex: 588101 entries, 0 to 588100\n",
      "Data columns (total 7 columns):\n",
      "Unnamed: 0       588101 non-null int64\n",
      "user id          588101 non-null int64\n",
      "test group       588101 non-null object\n",
      "converted        588101 non-null bool\n",
      "total ads        588101 non-null int64\n",
      "most ads day     588101 non-null object\n",
      "most ads hour    588101 non-null int64\n",
      "dtypes: bool(1), int64(4), object(2)\n",
      "memory usage: 27.5+ MB\n"
     ]
    }
   ],
   "source": [
    "data.info()"
   ]
  },
  {
   "cell_type": "code",
   "execution_count": 6,
   "metadata": {
    "colab": {
     "base_uri": "https://localhost:8080/"
    },
    "id": "66i5qO8Bxhw6",
    "outputId": "8ab5f15f-f35d-49b1-d244-273aa5dbb195"
   },
   "outputs": [
    {
     "name": "stdout",
     "output_type": "stream",
     "text": [
      "Null values in each column:\n",
      "Unnamed: 0       0\n",
      "user id          0\n",
      "test group       0\n",
      "converted        0\n",
      "total ads        0\n",
      "most ads day     0\n",
      "most ads hour    0\n",
      "dtype: int64\n"
     ]
    }
   ],
   "source": [
    "print(f'Null values in each column:\\n{data.isnull().sum()}')"
   ]
  },
  {
   "cell_type": "markdown",
   "metadata": {
    "id": "Mhzi4mfdghFu"
   },
   "source": [
    "<p style=\"font-family:Comic Sans MS', cursive; font-size:120%; color:#2AAA8A;\">According to the above result, There aren't missing values in this dataset.\n",
    "</p>"
   ]
  },
  {
   "cell_type": "code",
   "execution_count": 7,
   "metadata": {
    "colab": {
     "base_uri": "https://localhost:8080/"
    },
    "id": "wELgjwtxwFxX",
    "outputId": "5b721fd8-d643-4ee9-b56e-b5a465d6ce4c"
   },
   "outputs": [
    {
     "name": "stdout",
     "output_type": "stream",
     "text": [
      "Unique values in each column:\n",
      "Unnamed: 0       588101\n",
      "user id          588101\n",
      "test group            2\n",
      "converted             2\n",
      "total ads           807\n",
      "most ads day          7\n",
      "most ads hour        24\n",
      "dtype: int64\n"
     ]
    }
   ],
   "source": [
    "print(f'Unique values in each column:\\n{data.nunique()}')"
   ]
  },
  {
   "cell_type": "code",
   "execution_count": 8,
   "metadata": {
    "colab": {
     "base_uri": "https://localhost:8080/"
    },
    "id": "vSH0mwPkxQ-A",
    "outputId": "cff3cec0-fb60-4891-eb54-3cd3395f714b"
   },
   "outputs": [
    {
     "data": {
      "text/plain": [
       "0"
      ]
     },
     "execution_count": 8,
     "metadata": {},
     "output_type": "execute_result"
    }
   ],
   "source": [
    "data.duplicated().sum()"
   ]
  },
  {
   "cell_type": "markdown",
   "metadata": {
    "id": "Dea1gw3YghFx"
   },
   "source": [
    "<div style=\"background-color:#87CEEB; padding:3px; border-style: solid; font-family:'Comic Sans MS', cursive; color:#FFFFFF; font-size:100%; text-align:center; border-radius:20px 60px;\">\n",
    "    <strong>💭Insights💭</strong>:\n",
    "    <ul style=\"text-align: left;\">\n",
    "        <li>We can see that there aren't duplicated instances in this dataset.</li>\n",
    "        <li>Furthermore, we can drop <strong>user_id</strong> and <strong>Unnamed: 0</strong> because these columns have many unique values.</li>\n",
    "    </ul>\n",
    "</div>"
   ]
  },
  {
   "cell_type": "code",
   "execution_count": 9,
   "metadata": {
    "id": "6O9u6bnVwSlG"
   },
   "outputs": [],
   "source": [
    "data.drop(['Unnamed: 0', 'user id'], axis=1, inplace=True)"
   ]
  },
  {
   "cell_type": "markdown",
   "metadata": {
    "id": "oEyBcZoOghFy"
   },
   "source": [
    "<a id=\"4\"></a>\n",
    "# <p style=\"background-color:#fdf6e3; padding:10px; border-style: solid; font-family:'Comic Sans MS', cursive; color:#657b83; font-size:150%;text-align:center;border-radius:20px 60px;\"> EDA & Visualization</p>\n",
    "⬆️ [Tabel of Contents](#contents_tabel)"
   ]
  },
  {
   "cell_type": "code",
   "execution_count": 10,
   "metadata": {
    "colab": {
     "base_uri": "https://localhost:8080/",
     "height": 394
    },
    "id": "PED-ZwZSxsIE",
    "outputId": "44f84d14-37cd-4cf6-97be-02f17b6ef35b"
   },
   "outputs": [
    {
     "data": {
      "text/html": [
       "<div>\n",
       "<style scoped>\n",
       "    .dataframe tbody tr th:only-of-type {\n",
       "        vertical-align: middle;\n",
       "    }\n",
       "\n",
       "    .dataframe tbody tr th {\n",
       "        vertical-align: top;\n",
       "    }\n",
       "\n",
       "    .dataframe thead th {\n",
       "        text-align: right;\n",
       "    }\n",
       "</style>\n",
       "<table border=\"1\" class=\"dataframe\">\n",
       "  <thead>\n",
       "    <tr style=\"text-align: right;\">\n",
       "      <th></th>\n",
       "      <th>test group</th>\n",
       "      <th>converted</th>\n",
       "      <th>total ads</th>\n",
       "      <th>most ads day</th>\n",
       "      <th>most ads hour</th>\n",
       "    </tr>\n",
       "  </thead>\n",
       "  <tbody>\n",
       "    <tr>\n",
       "      <th>count</th>\n",
       "      <td>588101</td>\n",
       "      <td>588101</td>\n",
       "      <td>588101.000000</td>\n",
       "      <td>588101</td>\n",
       "      <td>588101.000000</td>\n",
       "    </tr>\n",
       "    <tr>\n",
       "      <th>unique</th>\n",
       "      <td>2</td>\n",
       "      <td>2</td>\n",
       "      <td>NaN</td>\n",
       "      <td>7</td>\n",
       "      <td>NaN</td>\n",
       "    </tr>\n",
       "    <tr>\n",
       "      <th>top</th>\n",
       "      <td>ad</td>\n",
       "      <td>False</td>\n",
       "      <td>NaN</td>\n",
       "      <td>Friday</td>\n",
       "      <td>NaN</td>\n",
       "    </tr>\n",
       "    <tr>\n",
       "      <th>freq</th>\n",
       "      <td>564577</td>\n",
       "      <td>573258</td>\n",
       "      <td>NaN</td>\n",
       "      <td>92608</td>\n",
       "      <td>NaN</td>\n",
       "    </tr>\n",
       "    <tr>\n",
       "      <th>mean</th>\n",
       "      <td>NaN</td>\n",
       "      <td>NaN</td>\n",
       "      <td>24.820876</td>\n",
       "      <td>NaN</td>\n",
       "      <td>14.469061</td>\n",
       "    </tr>\n",
       "    <tr>\n",
       "      <th>std</th>\n",
       "      <td>NaN</td>\n",
       "      <td>NaN</td>\n",
       "      <td>43.715181</td>\n",
       "      <td>NaN</td>\n",
       "      <td>4.834634</td>\n",
       "    </tr>\n",
       "    <tr>\n",
       "      <th>min</th>\n",
       "      <td>NaN</td>\n",
       "      <td>NaN</td>\n",
       "      <td>1.000000</td>\n",
       "      <td>NaN</td>\n",
       "      <td>0.000000</td>\n",
       "    </tr>\n",
       "    <tr>\n",
       "      <th>25%</th>\n",
       "      <td>NaN</td>\n",
       "      <td>NaN</td>\n",
       "      <td>4.000000</td>\n",
       "      <td>NaN</td>\n",
       "      <td>11.000000</td>\n",
       "    </tr>\n",
       "    <tr>\n",
       "      <th>50%</th>\n",
       "      <td>NaN</td>\n",
       "      <td>NaN</td>\n",
       "      <td>13.000000</td>\n",
       "      <td>NaN</td>\n",
       "      <td>14.000000</td>\n",
       "    </tr>\n",
       "    <tr>\n",
       "      <th>75%</th>\n",
       "      <td>NaN</td>\n",
       "      <td>NaN</td>\n",
       "      <td>27.000000</td>\n",
       "      <td>NaN</td>\n",
       "      <td>18.000000</td>\n",
       "    </tr>\n",
       "    <tr>\n",
       "      <th>max</th>\n",
       "      <td>NaN</td>\n",
       "      <td>NaN</td>\n",
       "      <td>2065.000000</td>\n",
       "      <td>NaN</td>\n",
       "      <td>23.000000</td>\n",
       "    </tr>\n",
       "  </tbody>\n",
       "</table>\n",
       "</div>"
      ],
      "text/plain": [
       "       test group converted      total ads most ads day  most ads hour\n",
       "count      588101    588101  588101.000000       588101  588101.000000\n",
       "unique          2         2            NaN            7            NaN\n",
       "top            ad     False            NaN       Friday            NaN\n",
       "freq       564577    573258            NaN        92608            NaN\n",
       "mean          NaN       NaN      24.820876          NaN      14.469061\n",
       "std           NaN       NaN      43.715181          NaN       4.834634\n",
       "min           NaN       NaN       1.000000          NaN       0.000000\n",
       "25%           NaN       NaN       4.000000          NaN      11.000000\n",
       "50%           NaN       NaN      13.000000          NaN      14.000000\n",
       "75%           NaN       NaN      27.000000          NaN      18.000000\n",
       "max           NaN       NaN    2065.000000          NaN      23.000000"
      ]
     },
     "execution_count": 10,
     "metadata": {},
     "output_type": "execute_result"
    }
   ],
   "source": [
    "data.describe(include='all')"
   ]
  },
  {
   "cell_type": "code",
   "execution_count": 11,
   "metadata": {
    "colab": {
     "base_uri": "https://localhost:8080/"
    },
    "id": "kOPzMqiPghF0",
    "outputId": "d3208f87-c576-4cc0-e84d-46aa9b73b7fa"
   },
   "outputs": [
    {
     "name": "stdout",
     "output_type": "stream",
     "text": [
      "====================== OBSERVATIONS ======================\n",
      "The number of instances that have seen advertisement (ad group): 564577\n",
      "The number of instances that have not seen advertisement(psa group): 23524\n",
      "\n",
      "========================== MEAN ==========================\n",
      "The mean of converted instances (True converted): 2.52%\n",
      "The mean of not converted instances (False converted): 97.48%\n",
      "The mean of converted instances in the ad group: 2.55%\n",
      "The mean of converted instances in the psa group: 1.79%\n"
     ]
    }
   ],
   "source": [
    "data_psa = data[data['test group']=='psa']\n",
    "data_ad = data[data['test group']=='ad']\n",
    "print(f'====================== OBSERVATIONS ======================')\n",
    "print(f\"The number of instances that have seen advertisement (ad group): {data_ad.shape[0]}\")\n",
    "print(f\"The number of instances that have not seen advertisement(psa group): {data_psa.shape[0]}\\n\")\n",
    "\n",
    "print(f'========================== MEAN ==========================')\n",
    "print(f\"The mean of converted instances (True converted): {data['converted'].mean()*100:.2f}%\")\n",
    "print(f\"The mean of not converted instances (False converted): {100-data['converted'].mean()*100:.2f}%\")\n",
    "print(f\"The mean of converted instances in the ad group: {data_ad['converted'].mean()*100:.2f}%\")\n",
    "print(f\"The mean of converted instances in the psa group: {data_psa['converted'].mean()*100:.2f}%\")"
   ]
  },
  {
   "cell_type": "markdown",
   "metadata": {
    "id": "rotVuOiGghF1"
   },
   "source": [
    "<div style=\"background-color:#87CEEB; padding:3px; border-style: solid; font-family:'Comic Sans MS', cursive; color:#FFFFFF; font-size:100%; text-align:center; border-radius:20px 60px;\">\n",
    "    <strong>💭Insights💭</strong>\n",
    "    <ul style=\"text-align: left;\">\n",
    "        <li>According to the above results, Most people in this dataset have seen advertisements.</li>\n",
    "        <li>Furthermore, we can see that the people in the <strong>ad group</strong> buy more than the <strong>psa group</strong>.</li>\n",
    "    </ul>\n",
    "</div>\n"
   ]
  },
  {
   "cell_type": "code",
   "execution_count": 12,
   "metadata": {
    "id": "tYJgAHC6btjq"
   },
   "outputs": [],
   "source": [
    "# visualization style\n",
    "plt.style.use('https://github.com/dhaitz/matplotlib-stylesheets/raw/master/pitayasmoothie-dark.mplstyle')"
   ]
  },
  {
   "cell_type": "code",
   "execution_count": 13,
   "metadata": {
    "colab": {
     "base_uri": "https://localhost:8080/",
     "height": 426
    },
    "id": "fsM4NDN_ghF2",
    "outputId": "88d664b1-fa42-4030-8482-2e231cc67994"
   },
   "outputs": [
    {
     "data": {
      "image/png": "[encoded data removed]",
      "text/plain": [
       "<Figure size 1500x500 with 2 Axes>"
      ]
     },
     "metadata": {},
     "output_type": "display_data"
    }
   ],
   "source": [
    "columns_to_plot = ['test group', 'converted']\n",
    "\n",
    "fig, ax = plt.subplots(1, len(columns_to_plot), figsize=(15, 5), dpi=100)\n",
    "\n",
    "for i, col in enumerate(columns_to_plot):\n",
    "    # Count plot for the current column with count labels\n",
    "    sns.countplot(data=data, x=col, ax=ax[i])\n",
    "    ax[i].set_title(f'Count Plot of {col.capitalize()}')\n",
    "    for p in ax[i].patches:\n",
    "        ax[i].annotate(f'{p.get_height()}', (p.get_x() + p.get_width() / 2, p.get_height()), ha='center', va='bottom')\n",
    "\n",
    "plt.show()"
   ]
  },
  {
   "cell_type": "code",
   "execution_count": 14,
   "metadata": {
    "colab": {
     "base_uri": "https://localhost:8080/",
     "height": 403
    },
    "id": "R6flZN06ghF3",
    "outputId": "52b258cb-b145-417e-8a34-6e6dc0345973"
   },
   "outputs": [
    {
     "data": {
      "image/png": "[encoded data removed]",
      "text/plain": [
       "<Figure size 800x400 with 1 Axes>"
      ]
     },
     "metadata": {},
     "output_type": "display_data"
    }
   ],
   "source": [
    "plt.figure(figsize=(8, 4), dpi=100)\n",
    "sns.countplot(data=data, x='converted', hue='test group')\n",
    "plt.title('Converted Instances Across the 2 Different Test-Group')\n",
    "for p in plt.gca().patches:\n",
    "    plt.gca().annotate(f'{p.get_height()}', (p.get_x() + p.get_width() / 2, p.get_height()), ha='center', va='bottom')\n",
    "\n",
    "plt.show()"
   ]
  },
  {
   "cell_type": "markdown",
   "metadata": {
    "id": "VQYLBukcghF4"
   },
   "source": [
    "\n",
    "<div style=\"background-color:#87CEEB; padding:8px; border-style: solid; font-family:'Comic Sans MS', cursive; color:#FFFFFF; font-size:100%; text-align:center; border-radius:20px 60px;\">\n",
    "    <strong>💭Insights💭</strong>:\n",
    "    <ul style=\"text-align: left;\">\n",
    "        <li>These charts show that the people in the <strong>ad group</strong> bought much more than the <strong>psa group</strong>. َSo, according to the above results, a <strong>hypothesis</strong> can be that advertising is an important indicator for sales increase.</li>\n",
    "        <li>To evaluate this hypothesis and also to understand that there is a <strong>significant difference</strong> between the <strong>ad</strong> and <strong>psa</strong> groups, we should take <strong>Statistics Tests</strong> such as <strong>ABTest</strong>, and <strong>Independent TTest</strong>.</li>\n",
    "        <li>In addition, to find the relation between the <strong>test group</strong> and the <strong>converted</strong>, we should use <strong>Chi2Test</strong>.</li>\n",
    "    </ul>\n",
    "</div>\n",
    "\n"
   ]
  },
  {
   "cell_type": "markdown",
   "metadata": {
    "id": "98YHh9R7ghF5"
   },
   "source": [
    "\n",
    "<p style=\"font-family:Comic Sans MS', cursive; font-size:120%; color:#2AAA8A;\">Before evaluating the Chi2Test and ABTest, I decided to plot two more charts to consider <strong>most ads day</strong> and <strong>most ads hour</strong> features in this notebook.\n",
    "</p>"
   ]
  },
  {
   "cell_type": "code",
   "execution_count": 15,
   "metadata": {
    "colab": {
     "base_uri": "https://localhost:8080/",
     "height": 431
    },
    "id": "i5cc3oZtghF6",
    "outputId": "2d0448a1-e50b-440a-aea8-8c3e8ea609d8"
   },
   "outputs": [
    {
     "data": {
      "image/png": "[encoded data removed]",
      "text/plain": [
       "<Figure size 1500x500 with 1 Axes>"
      ]
     },
     "metadata": {},
     "output_type": "display_data"
    }
   ],
   "source": [
    "# Create a count plot for 'test group', 'most ads day', and 'converted' values\n",
    "plt.figure(figsize=(15, 5), dpi=100)\n",
    "sns.countplot(data=data[data['converted'] == True], x='most ads day', hue='test group')\n",
    "\n",
    "plt.title('Converted Instances Across the Test Group and Most Ads on Day')\n",
    "plt.xlabel('Most Ads Day')\n",
    "plt.ylabel('Converted(True)')\n",
    "plt.legend(title='Test Group', loc='upper left')\n",
    "\n",
    "for p in plt.gca().patches:\n",
    "    plt.gca().annotate(f'{p.get_height()}', (p.get_x() + p.get_width() / 2, p.get_height()), ha='center', va='bottom')\n",
    "\n",
    "plt.show()"
   ]
  },
  {
   "cell_type": "code",
   "execution_count": 16,
   "metadata": {
    "colab": {
     "base_uri": "https://localhost:8080/",
     "height": 431
    },
    "id": "6ecMu2tIghF7",
    "outputId": "5d2c2479-cef1-4371-b0d3-5eb778c27df0"
   },
   "outputs": [
    {
     "data": {
      "image/png": "[encoded data removed]",
      "text/plain": [
       "<Figure size 1500x500 with 1 Axes>"
      ]
     },
     "metadata": {},
     "output_type": "display_data"
    }
   ],
   "source": [
    "plt.figure(figsize=(15, 5), dpi=100)\n",
    "sns.countplot(x='most ads hour', hue='test group', data=data[data['converted'] == True], dodge=False)\n",
    "plt.title('Converted Instances Across the Test Group and Most Ads on Hour')\n",
    "plt.xlabel('Most Ads Hour')\n",
    "plt.ylabel('Count')\n",
    "plt.legend(title='Test Group')\n",
    "plt.show()"
   ]
  },
  {
   "cell_type": "markdown",
   "metadata": {
    "id": "gB2c_hehghF8"
   },
   "source": [
    "<div style=\"background-color:#87CEEB; padding:3px; border-style: solid; font-family:'Comic Sans MS', cursive; color:#FFFFFF; font-size:100%; text-align:center; border-radius:20px 60px;\">\n",
    "    <strong>💭Insights💭</strong>:\n",
    "    <ul style=\"text-align: left;\">\n",
    "        <li>Most purchases occur on Mondays compared to other days.</li>\n",
    "        <li>In addition, people are more interested in shopping during the afternoon, especially between 14:00 and 15:00.</li>\n",
    "    </ul>\n",
    "</div>\n"
   ]
  },
  {
   "cell_type": "markdown",
   "metadata": {},
   "source": [
    "<a id=\"5\"></a>\n",
    "# <p style=\"background-color:#fdf6e3; padding:10px; border-style: solid; font-family:'Comic Sans MS', cursive; color:#657b83; font-size:150%;text-align:center;border-radius:20px 60px;\"> Hypothesis</p>\n",
    "⬆️ [Tabel of Contents](#contents_tabel)"
   ]
  },
  {
   "cell_type": "markdown",
   "metadata": {},
   "source": [
    "<div style=\"background-color:#87CEEB; padding:3px; border-style: solid; font-family:'Comic Sans MS', cursive; color:#FFFFFF; font-size:100%; text-align:center; border-radius:20px 60px;\">\n",
    "    <strong>Hypotheses:</strong>\n",
    "    <ol style=\"text-align: left;\">\n",
    "        <li><strong>Null Hypothesis (H0):</strong> There is no <em>significant difference</em> in <strong>buying behavior</strong> between the <strong>ad and psa groups</strong>.</li>\n",
    "        <li><strong>Alternative Hypothesis (H1):</strong> There is a <em>significant difference</em> in <strong>buying behavior</strong> between the <strong>ad and psa groups</strong>. (The alternative hypothesis contradicts the null hypothesis, suggesting that there is a significant difference between the means of the two groups.)</li>\n",
    "    </ol>\n",
    "</div>"
   ]
  },
  {
   "cell_type": "markdown",
   "metadata": {
    "id": "-2DSQfX9bf4A"
   },
   "source": [
    "<a id=\"6\"></a>\n",
    "# <p style=\"background-color:#fdf6e3; padding:10px; border-style: solid; font-family:'Comic Sans MS', cursive; color:#657b83; font-size:150%;text-align:center;border-radius:20px 60px;\"> Chi2Test</p>\n",
    "⬆️ [Tabel of Contents](#contents_tabel)"
   ]
  },
  {
   "cell_type": "markdown",
   "metadata": {},
   "source": [
    "<div style=\"background-color:#87CEEB; padding:3px; border-style: solid; font-family:'Comic Sans MS', cursive; color:#FFFFFF; font-size:100%; text-align:center; border-radius:20px 60px;\">\n",
    "    <strong>Chi-square Test:</strong>\n",
    "    <p>The <strong>chi-square test</strong> for independence is suitable for comparing categorical variables to determine if they are independent or associated. In this case, it can help determine if there's a significant difference in <strong>buying behavior between the ad and psa groups</strong>.</p>\n",
    "    <ul style=\"text-align: left;\">\n",
    "        <li>Chi-square test measures the association between two <strong>categorical variables</strong>. It compares the observed frequencies of the categories with the frequencies that would be expected if the two variables were independent.</li>\n",
    "        <li>The test generates a chi-square statistic and a <strong>p-value</strong>. A low p-value indicates that the variables are dependent, rejecting the null hypothesis.</li>\n",
    "    </ul>\n",
    "</div>"
   ]
  },
  {
   "cell_type": "markdown",
   "metadata": {
    "id": "QIK6h2TzghF-"
   },
   "source": [
    "<div style=\"background-color:#87CEEB; padding:15px; border-style: solid; font-family:'Comic Sans MS', cursive; color:#FFFFFF; font-size:100%; text-align:center; border-radius:20px 60px;\">\n",
    "    <p>There are two approaches to calculate the Chi2Test:</p>\n",
    "    <ol style=\"text-align: left;\">\n",
    "        <li>From scratch</li>\n",
    "        <li>Using stats.chi2_contingency</li>\n",
    "    </ol>\n",
    "    <p>It should be mentioned that in both approaches, in the first step, we should create a <em>crosstab</em> between <strong>converted</strong> and <strong>test group</strong> columns.</p>\n",
    "</div>\n"
   ]
  },
  {
   "cell_type": "code",
   "execution_count": 17,
   "metadata": {
    "colab": {
     "base_uri": "https://localhost:8080/",
     "height": 174
    },
    "id": "PTZCQt0Ebfme",
    "outputId": "32838af0-044b-41a1-8962-1cba71894f83"
   },
   "outputs": [
    {
     "data": {
      "text/html": [
       "<div>\n",
       "<style scoped>\n",
       "    .dataframe tbody tr th:only-of-type {\n",
       "        vertical-align: middle;\n",
       "    }\n",
       "\n",
       "    .dataframe tbody tr th {\n",
       "        vertical-align: top;\n",
       "    }\n",
       "\n",
       "    .dataframe thead th {\n",
       "        text-align: right;\n",
       "    }\n",
       "</style>\n",
       "<table border=\"1\" class=\"dataframe\">\n",
       "  <thead>\n",
       "    <tr style=\"text-align: right;\">\n",
       "      <th>test group</th>\n",
       "      <th>ad</th>\n",
       "      <th>psa</th>\n",
       "      <th>All</th>\n",
       "    </tr>\n",
       "    <tr>\n",
       "      <th>converted</th>\n",
       "      <th></th>\n",
       "      <th></th>\n",
       "      <th></th>\n",
       "    </tr>\n",
       "  </thead>\n",
       "  <tbody>\n",
       "    <tr>\n",
       "      <th>False</th>\n",
       "      <td>550154</td>\n",
       "      <td>23104</td>\n",
       "      <td>573258</td>\n",
       "    </tr>\n",
       "    <tr>\n",
       "      <th>True</th>\n",
       "      <td>14423</td>\n",
       "      <td>420</td>\n",
       "      <td>14843</td>\n",
       "    </tr>\n",
       "    <tr>\n",
       "      <th>All</th>\n",
       "      <td>564577</td>\n",
       "      <td>23524</td>\n",
       "      <td>588101</td>\n",
       "    </tr>\n",
       "  </tbody>\n",
       "</table>\n",
       "</div>"
      ],
      "text/plain": [
       "test group      ad    psa     All\n",
       "converted                        \n",
       "False       550154  23104  573258\n",
       "True         14423    420   14843\n",
       "All         564577  23524  588101"
      ]
     },
     "execution_count": 17,
     "metadata": {},
     "output_type": "execute_result"
    }
   ],
   "source": [
    "chi2 = pd.crosstab(data['converted'], data['test group'], margins=True)\n",
    "chi2"
   ]
  },
  {
   "cell_type": "code",
   "execution_count": 18,
   "metadata": {
    "colab": {
     "base_uri": "https://localhost:8080/"
    },
    "id": "D6HdCsmjfp-a",
    "outputId": "c0ea550e-f0db-408f-eeec-aad99e3110a6"
   },
   "outputs": [
    {
     "name": "stdout",
     "output_type": "stream",
     "text": [
      "The result of Chi2Test:\n",
      "dof = 1\n",
      "P-value = 1.7053025658242404e-13\n"
     ]
    }
   ],
   "source": [
    "# Chi2Test from the scratch\n",
    "\n",
    "# observation\n",
    "obs = np.append(chi2.iloc[0][: -1].values, chi2.iloc[1][: -1].values)\n",
    "\n",
    "row_sum = chi2.iloc[0: 2, 2].values\n",
    "\n",
    "# calculation\n",
    "exp = []\n",
    "for j in range(2):\n",
    "    for val in chi2.iloc[2, : -1].values:\n",
    "        # print(val, ' * ', row_sum[j], ' / ', chi2.loc['All', 'All'], ' = ', val * row_sum[j] / chi2.loc['All', 'All'])\n",
    "        exp.append(val * row_sum[j] / chi2.loc['All', 'All'])\n",
    "\n",
    "# degree of freedom\n",
    "dof = (len(row_sum) - 1) * (len(chi2.iloc[2, :-1].values) - 1)\n",
    "\n",
    "# converted vs test group\n",
    "print(f'The result of Chi2Test:\\ndof = {dof}\\nP-value = {1 - stats.chi2.cdf(((obs - exp) ** 2 / exp).sum(), dof)}')"
   ]
  },
  {
   "cell_type": "code",
   "execution_count": 19,
   "metadata": {
    "colab": {
     "base_uri": "https://localhost:8080/"
    },
    "id": "bSsoy7vZgDQc",
    "outputId": "cc286649-6e10-43a0-9925-e88fff6531e2"
   },
   "outputs": [
    {
     "name": "stdout",
     "output_type": "stream",
     "text": [
      "The result of Chi2Test:\n",
      "Chi-square statistic = 54.01\n",
      "Degree of Freedom = 1\n",
      "P-value = 0.00\n"
     ]
    }
   ],
   "source": [
    "# Chi2Test from stats\n",
    "\n",
    "obs = np.array([chi2.iloc[0][: -1].values, chi2.iloc[1][: -1].values])\n",
    "statistic, pvalue, dof, expected_freq = stats.chi2_contingency(obs)\n",
    "print(f'The result of Chi2Test:\\nChi-square statistic = {statistic:.2f}\\nDegree of Freedom = {dof}\\nP-value = {pvalue:.2f}')\n"
   ]
  },
  {
   "cell_type": "markdown",
   "metadata": {
    "id": "WheMuuFEithG"
   },
   "source": [
    "<div style=\"background-color:#87CEEB; padding:12px; border-style: solid; font-family:'Comic Sans MS', cursive; color:#FFFFFF; font-size:100%; text-align:center; border-radius:20px 60px;\">\n",
    "    <strong>💭Insights💭</strong>:\n",
    "    <p>The P-value is close to 0, which means there is good evidence to reject the null hypothesis. Our threshold rejecting the Null is usually less than 0.05.</p>\n",
    "    <p>So, according to the result of the <em>Chi2Test</em>, we can see that there is a relation between the <strong>test group</strong> and <strong>converted</strong> features.</p>\n",
    "</div>\n"
   ]
  },
  {
   "cell_type": "markdown",
   "metadata": {
    "id": "ok2mMCJ7cpoc"
   },
   "source": [
    "<a id=\"7\"></a>\n",
    "# <p style=\"background-color:#fdf6e3; padding:10px; border-style: solid; font-family:'Comic Sans MS', cursive; color:#657b83; font-size:150%;text-align:center;border-radius:20px 60px;\"> ABTest (BINOMIAL distribution)</p>\n",
    "⬆️ [Tabel of Contents](#contents_tabel)"
   ]
  },
  {
   "cell_type": "markdown",
   "metadata": {
    "id": "SCU9XC3UghGC"
   },
   "source": [
    "<p style=\"font-family:Comic Sans MS', cursive; font-size:120%; color:#2AAA8A;\">For evaluating the ABTest between the <strong>ad</strong> and <strong>psa</strong>, we can use <strong>binomial distribution</strong> according to the following code blocks.\n",
    "</p>\n",
    "<p style=\"font-family:Comic Sans MS', cursive; font-size:120%; color:#2AAA8A;\"><strong>Binomial Distribution</strong> models success/failure in each group.\n",
    "</p>"
   ]
  },
  {
   "cell_type": "code",
   "execution_count": 20,
   "metadata": {
    "id": "Teq8Tl6T3k1P"
   },
   "outputs": [],
   "source": [
    "ad_converted = np.random.choice([1, 0], size=len(data_ad), p=[data.converted.mean(), (1 - data.converted.mean())])\n",
    "psa_converted = np.random.choice([1, 0], size=len(data_psa), p=[data.converted.mean(), (1 - data.converted.mean())])"
   ]
  },
  {
   "cell_type": "code",
   "execution_count": 21,
   "metadata": {
    "colab": {
     "base_uri": "https://localhost:8080/",
     "height": 381
    },
    "id": "IRP01bSV7de9",
    "outputId": "9572d979-47b1-401f-ca52-1b0e3d512f16"
   },
   "outputs": [
    {
     "data": {
      "image/png": "[encoded data removed]",
      "text/plain": [
       "<Figure size 1500x500 with 2 Axes>"
      ]
     },
     "metadata": {},
     "output_type": "display_data"
    }
   ],
   "source": [
    "fig, (ax1, ax2) = plt.subplots(nrows=1, ncols=2, figsize=(15,5), dpi=100)\n",
    "ax1.hist(ad_converted);\n",
    "ax2.hist(psa_converted);\n",
    "ax1.set(title='ad_converted', xlabel='False/True', ylabel='Count');\n",
    "ax2.set(title='psa_converted', xlabel='False/True', ylabel='Count');\n",
    "plt.tight_layout()"
   ]
  },
  {
   "cell_type": "markdown",
   "metadata": {
    "id": "_HTD33NXghGQ"
   },
   "source": [
    "<div style=\"background-color:#87CEEB; padding:12px; border-style: solid; font-family:'Comic Sans MS', cursive; color:#FFFFFF; font-size:100%; text-align:center; border-radius:20px 60px;\">\n",
    "    <strong>Step 1: Generating Random Samples</strong>\n",
    "    <p>Using numpy's <code>random.binomial()</code> function, random samples of conversions are generated for both the ad and psa groups.</p>\n",
    "    <p>The number of trials is set to the length of each group, and the probability of success (conversion rate) is set to the overall conversion rate from the entire dataset.</p>\n",
    "    <strong>Step 2: Calculating Differences</strong>\n",
    "    <p>Differences in conversion rates between the ad and psa groups are computed for each random sample.</p>\n",
    "    <p>Additionally, the actual difference in conversion rates between the ad and psa groups in the original dataset is calculated.</p>\n",
    "    <strong>Step 3: Printing Results</strong>\n",
    "    <p>The mean of differences of conversion rates from the random samples and the mean difference from the original dataset are printed.</p>\n",
    "    <p>The p-value is calculated as the proportion of random samples that have a difference greater than the actual difference observed in the original dataset.</p>\n",
    "</div>\n"
   ]
  },
  {
   "cell_type": "code",
   "execution_count": 22,
   "metadata": {
    "colab": {
     "base_uri": "https://localhost:8080/"
    },
    "id": "mUGLgcq0ghGR",
    "outputId": "032aae80-b7e2-4009-921f-258dd190f4db"
   },
   "outputs": [
    {
     "name": "stdout",
     "output_type": "stream",
     "text": [
      "Results of AB Test Simulation:\n",
      "----------------------------------------------------\n",
      "Mean difference of randomly generated instances: 0.00001\n",
      "Actual difference between ad and psa groups: 0.00769\n",
      "P-value: 0.00%\n",
      "----------------------------------------------------\n",
      "There is a significant difference in conversion rates between ad and psa groups.\n"
     ]
    }
   ],
   "source": [
    "# Generate random samples for ad and psa groups\n",
    "ad_converted = np.random.binomial(len(data_ad), data.converted.mean(), 10000) / len(data_ad)\n",
    "psa_converted = np.random.binomial(len(data_psa), data.converted.mean(), 10000) / len(data_psa)\n",
    "\n",
    "# Calculate differences\n",
    "p_diffs = ad_converted - psa_converted\n",
    "ab_data_diff = data_ad['converted'].mean() - data_psa['converted'].mean()\n",
    "\n",
    "# Print results\n",
    "print(\"Results of AB Test Simulation:\")\n",
    "print(\"----------------------------------------------------\")\n",
    "print(f\"Mean difference of randomly generated instances: {p_diffs.mean():.5f}\")\n",
    "print(f\"Actual difference between ad and psa groups: {ab_data_diff:.5f}\")\n",
    "p_value = (p_diffs > ab_data_diff).mean()\n",
    "print(f\"P-value: {p_value * 100:.2f}%\")\n",
    "print(\"----------------------------------------------------\")\n",
    "if p_value < 0.05:\n",
    "    print(\"There is a significant difference in conversion rates between ad and psa groups.\")\n",
    "else:\n",
    "    print(\"There is no significant difference in conversion rates between ad and psa groups.\")\n"
   ]
  },
  {
   "cell_type": "code",
   "execution_count": 23,
   "metadata": {
    "colab": {
     "base_uri": "https://localhost:8080/",
     "height": 457
    },
    "id": "CqfYYk5H6bnj",
    "outputId": "727869fd-eb2f-412b-d15a-31c03f416d64"
   },
   "outputs": [
    {
     "data": {
      "text/plain": [
       "<matplotlib.lines.Line2D at 0x1f34c7e7400>"
      ]
     },
     "execution_count": 23,
     "metadata": {},
     "output_type": "execute_result"
    },
    {
     "data": {
      "image/png": "[encoded data removed]",
      "text/plain": [
       "<Figure size 1000x500 with 1 Axes>"
      ]
     },
     "metadata": {},
     "output_type": "display_data"
    }
   ],
   "source": [
    "plt.figure(figsize=(10, 5), dpi=100)\n",
    "plt.hist(p_diffs, bins=100)\n",
    "low = ab_data_diff\n",
    "higth = p_diffs.mean()\n",
    "plt.axvline(x=low, color='g')\n",
    "plt.axvline(x=higth, color='r')"
   ]
  },
  {
   "cell_type": "markdown",
   "metadata": {
    "id": "LljqgyGBhQPe"
   },
   "source": [
    "<p style=\"font-family:Comic Sans MS', cursive; font-size:120%; color:#2AAA8A;\">The differences between the green and red lines of the above chart confirm that there is a <strong>significant difference</strong> in conversion rates between <strong>ad</strong> and <strong>psa</strong> groups.\n",
    "</p>"
   ]
  },
  {
   "cell_type": "markdown",
   "metadata": {
    "id": "hBAQVhljBokG"
   },
   "source": [
    "<a id=\"8\"></a>\n",
    "# <p style=\"background-color:#fdf6e3; padding:10px; border-style: solid; font-family:'Comic Sans MS', cursive; color:#657b83; font-size:150%;text-align:center;border-radius:20px 60px;\"> ABTest (from scratch)</p>\n",
    "⬆️ [Tabel of Contents](#contents_tabel)"
   ]
  },
  {
   "cell_type": "code",
   "execution_count": 24,
   "metadata": {
    "id": "pHEWp7hdpJkT"
   },
   "outputs": [],
   "source": [
    "psa = np.array(data[data['test group']=='psa']['converted'])\n",
    "ad = np.array(data[data['test group']=='ad']['converted'])\n",
    "\n",
    "converted = np.array([\n",
    "    np.append(np.zeros(len(psa)), np.ones(len(ad))),\n",
    "    np.append(psa, ad)\n",
    "])\n",
    "converted_t = converted.T"
   ]
  },
  {
   "cell_type": "code",
   "execution_count": 25,
   "metadata": {
    "id": "XysO09hXBn-A"
   },
   "outputs": [],
   "source": [
    "def ABTest(N):\n",
    "    experiment_diff_mean = np.empty([N, 1])\n",
    "    for times in np.arange(N):\n",
    "        experiment_label = np.random.randint(0, 2, len(converted_t))\n",
    "        experiment_data = np.array([\n",
    "            experiment_label,\n",
    "            converted_t[:, 1]\n",
    "        ]).T\n",
    "        experiment_diff_mean[times] = experiment_data[experiment_data[:, 0] == 1][:, 1].mean() - experiment_data[experiment_data[:, 0] == 0][:, 1].mean()\n",
    "    return experiment_diff_mean"
   ]
  },
  {
   "cell_type": "code",
   "execution_count": 26,
   "metadata": {
    "colab": {
     "base_uri": "https://localhost:8080/"
    },
    "id": "XAi_HCrVpkTZ",
    "outputId": "976bd280-79b3-43e5-825d-e89f5267a9f3"
   },
   "outputs": [
    {
     "name": "stdout",
     "output_type": "stream",
     "text": [
      "The p-value in ABTest is: 0.0\n",
      "There is a significant difference in conversion rates between ad and psa groups.\n"
     ]
    }
   ],
   "source": [
    "AB_test = ABTest(1000)\n",
    "p_value = len(AB_test[AB_test >= ab_data_diff])/ 1000 * 100\n",
    "print(f\"The p-value in ABTest is: {p_value}\")\n",
    "if p_value < 0.05:\n",
    "    print(\"There is a significant difference in conversion rates between ad and psa groups.\")\n",
    "else:\n",
    "    print(\"There is no significant difference in conversion rates between ad and psa groups.\")"
   ]
  },
  {
   "cell_type": "markdown",
   "metadata": {
    "id": "mTMiikNeMq0e"
   },
   "source": [
    "<p style=\"font-family:Comic Sans MS', cursive; font-size:120%; color:#2AAA8A;\">This result rejects null hypotheses. In other words, there's a statistical difference between the <strong>ad</strong> and <strong>psa</strong> groups in purchases.\n",
    "</p>"
   ]
  },
  {
   "cell_type": "markdown",
   "metadata": {
    "id": "F757-mL4Blu9"
   },
   "source": [
    "<a id=\"9\"></a>\n",
    "# <p style=\"background-color:#fdf6e3; padding:10px; border-style: solid; font-family:'Comic Sans MS', cursive; color:#657b83; font-size:150%;text-align:center;border-radius:20px 60px;\"> TTest</p>\n",
    "⬆️ [Tabel of Contents](#contents_tabel)"
   ]
  },
  {
   "cell_type": "markdown",
   "metadata": {},
   "source": [
    "<div style=\"background-color:#87CEEB; padding:12px; border-style: solid; font-family:'Comic Sans MS', cursive; color:#FFFFFF; font-size:100%; text-align:center; border-radius:20px 60px;\">\n",
    "    <strong>💭TTest💭</strong>:\n",
    "    <p>The <strong>T-Test</strong> calculates a test statistic (t-value) based on the means and standard deviations of the two groups, along with the sample sizes. This t-value is then compared to a critical value from the t-distribution to determine statistical significance.</p>\n",
    "    <p>One of the key assumptions of the T-Test is that the data within each group follows a <strong>normal distribution.</strong></p>\n",
    "    <P>Since <strong>test group</strong> and <strong>converted</strong> columns are categorical (non-continuous), we cannot check for normality directly. Instead, we should check whether the assumptions of the T-test hold for the data. This includes:\n",
    "    \n",
    "1. Both groups are independent.\n",
    "    \n",
    "2. The samples are approximately normally distributed.\n",
    "\n",
    "3. Homogeneity of variances.\n",
    "\n",
    "<P>So, the T-test is not suitable for this dataset since it requires continuous data. To check the normality of the data, we can use the <strong>Shapiro-Wilk</strong> test for each group separately.</p>\n",
    "    </p>\n",
    "</div>"
   ]
  },
  {
   "cell_type": "code",
   "execution_count": 37,
   "metadata": {},
   "outputs": [
    {
     "name": "stdout",
     "output_type": "stream",
     "text": [
      "Shapiro-Wilk Test - Ad Group: Statistic=0.142, p-value=0.000\n",
      "Shapiro-Wilk Test - PSA Group: Statistic=0.110, p-value=0.000\n"
     ]
    },
    {
     "name": "stderr",
     "output_type": "stream",
     "text": [
      "C:\\Users\\Abbas\\Anaconda3\\lib\\site-packages\\scipy\\stats\\morestats.py:1309: UserWarning: p-value may not be accurate for N > 5000.\n",
      "  warnings.warn(\"p-value may not be accurate for N > 5000.\")\n",
      "C:\\Users\\Abbas\\Anaconda3\\lib\\site-packages\\scipy\\stats\\morestats.py:1309: UserWarning: p-value may not be accurate for N > 5000.\n",
      "  warnings.warn(\"p-value may not be accurate for N > 5000.\")\n"
     ]
    }
   ],
   "source": [
    "ad_group = data[data['test group'] == 'ad']['converted']\n",
    "psa_group = data[data['test group'] == 'psa']['converted']\n",
    "\n",
    "stat_ad, p_ad = shapiro(ad_group)\n",
    "stat_psa, p_psa = shapiro(psa_group)\n",
    "\n",
    "print(\"Shapiro-Wilk Test - Ad Group: Statistic=%.3f, p-value=%.3f\" % (stat_ad, p_ad))\n",
    "print(\"Shapiro-Wilk Test - PSA Group: Statistic=%.3f, p-value=%.3f\" % (stat_psa, p_psa))"
   ]
  },
  {
   "cell_type": "markdown",
   "metadata": {
    "id": "QafPL8JnPGsM"
   },
   "source": [
    "<p style=\"font-family:Comic Sans MS', cursive; font-size:120%; color:#2AAA8A;\">When the p-value of the Shapiro-Wilk test is less than 0.05 (significant level), it indicates that the data does not follow a normal distribution. So, for this dataset, we can't use T-Test.\n",
    "</p>"
   ]
  },
  {
   "cell_type": "markdown",
   "metadata": {},
   "source": [
    "<a id=\"10\"></a>\n",
    "# <p style=\"background-color:#fdf6e3; padding:10px; border-style: solid; font-family:'Comic Sans MS', cursive; color:#657b83; font-size:150%;text-align:center;border-radius:20px 60px;\"> Additional Statistics Test</p>\n",
    "⬆️ [Tabel of Contents](#contents_tabel)"
   ]
  },
  {
   "cell_type": "markdown",
   "metadata": {},
   "source": [
    "<p style=\"font-family:Comic Sans MS', cursive; font-size:120%; color:#2AAA8A;\">The <a href=\"https://www.statstest.com\">www.statstest.com</a> helps us to choose the appropriate test for our dataset. According to this website, I got this result:\n",
    "</p>"
   ]
  },
  {
   "cell_type": "markdown",
   "metadata": {},
   "source": [
    "<img src=\"G-Test.jpg\" alt=\"G-Test\">"
   ]
  },
  {
   "cell_type": "markdown",
   "metadata": {},
   "source": [
    "<div style=\"background-color:#87CEEB; padding:3px; border-style: solid; font-family:'Comic Sans MS', cursive; color:#FFFFFF; font-size:100%; text-align:center; border-radius:20px 60px;\">\n",
    "    <strong>G-test</strong>\n",
    "    <p>The <strong>G-test</strong> (also known as the <strong>likelihood ratio test</strong>) is similar to the chi-square test but has some advantages, especially when dealing with small sample sizes. It's particularly useful when expected cell frequencies are small.</p>\n",
    "    <ul style=\"text-align: left;\">\n",
    "        <li>The <strong>G-test</strong> measures the difference between <strong>observed and expected</strong> frequencies under the null hypothesis.</li>\n",
    "        <li>It calculates the <strong>likelihood ratio</strong> between the <strong>observed data</strong> and the <strong>expected data</strong>.</li>\n",
    "    </ul>\n",
    "</div>\n"
   ]
  },
  {
   "cell_type": "code",
   "execution_count": 38,
   "metadata": {},
   "outputs": [
    {
     "name": "stdout",
     "output_type": "stream",
     "text": [
      "G-test statistic: 59.782230158204584\n",
      "P-value: 1.059557167561035e-14\n",
      "Reject Null Hypothesis: There is a significant difference in conversion rates between the ad and psa groups using G-test.\n"
     ]
    }
   ],
   "source": [
    "# G-Test\n",
    "contingency_table = pd.crosstab(data['test group'], data['converted'])\n",
    "g_stat, p_val, _, _ = stats.chi2_contingency(contingency_table, lambda_=\"log-likelihood\")\n",
    "print(\"G-test statistic:\", g_stat)\n",
    "print(\"P-value:\", p_val)\n",
    "if p_val < 0.05:\n",
    "    print(\"Reject Null Hypothesis: There is a significant difference in conversion rates between the ad and psa groups using G-test.\")\n",
    "else:\n",
    "    print(\"Fail to reject Null Hypothesis: There is no significant difference in conversion rates between the ad and psa groups using G-test.\")"
   ]
  },
  {
   "cell_type": "markdown",
   "metadata": {},
   "source": [
    "<p style=\"font-family:Comic Sans MS', cursive; font-size:120%; color:#2AAA8A;\">We can conclude that the G-Test confirms the result of the Chi-square-Test.\n",
    "</p>"
   ]
  },
  {
   "cell_type": "markdown",
   "metadata": {},
   "source": [
    "# <p style=\"background-color:#fdf6e3; padding:10px; border-style: solid; font-family:'Comic Sans MS', cursive; color:#657b83; font-size:150%;text-align:center;border-radius:20px 60px;\"> Thanks for your attention</p>"
   ]
  }
 ],
 "metadata": {
  "colab": {
   "provenance": []
  },
  "kernelspec": {
   "display_name": "Python 3",
   "language": "python",
   "name": "python3"
  },
  "language_info": {
   "codemirror_mode": {
    "name": "ipython",
    "version": 3
   },
   "file_extension": ".py",
   "mimetype": "text/x-python",
   "name": "python",
   "nbconvert_exporter": "python",
   "pygments_lexer": "ipython3",
   "version": "3.7.0"
  }
 },
 "nbformat": 4,
 "nbformat_minor": 1
}
