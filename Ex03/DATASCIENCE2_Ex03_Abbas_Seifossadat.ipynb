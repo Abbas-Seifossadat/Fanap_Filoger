{
 "cells": [
  {
   "cell_type": "markdown",
   "metadata": {
    "id": "x9qm-herSzt4"
   },
   "source": [
    "# Libraries"
   ]
  },
  {
   "cell_type": "code",
   "execution_count": 1,
   "metadata": {
    "id": "Fi1A3VQeRpmB"
   },
   "outputs": [],
   "source": [
    "import numpy as np\n",
    "from time import perf_counter"
   ]
  },
  {
   "cell_type": "markdown",
   "metadata": {
    "id": "z22mO2HoSvAr"
   },
   "source": [
    "# Random Array Function"
   ]
  },
  {
   "cell_type": "code",
   "execution_count": 2,
   "metadata": {
    "id": "NDn_fl6_XvVX"
   },
   "outputs": [],
   "source": [
    "def generate_random_array():\n",
    "    while True:\n",
    "        try:\n",
    "            a = int(input(\"Enter the lower bound: \"))\n",
    "            b = int(input(\"Enter the upper bound: \"))\n",
    "            l = int(input(\"Enter the length of the array: \"))\n",
    "            if a >= b:\n",
    "                print(\"Upper bound must be greater than lower bound. Please try again.\")\n",
    "                continue\n",
    "            elif l <= 0:\n",
    "                print(\"Length of the array must be a positive integer. Please try again.\")\n",
    "                continue\n",
    "            else:\n",
    "                break\n",
    "        except ValueError:\n",
    "            print(\"Invalid input. Please enter a valid integer.\")\n",
    "\n",
    "    random_array = np.random.randint(a, b, size=l)\n",
    "    return random_array"
   ]
  },
  {
   "cell_type": "markdown",
   "metadata": {
    "id": "thApkhwcD0C_"
   },
   "source": [
    "# Quick Sort"
   ]
  },
  {
   "cell_type": "code",
   "execution_count": 3,
   "metadata": {
    "id": "MIz1YbnOCbGJ"
   },
   "outputs": [],
   "source": [
    "# Algorithm\n",
    "def quicksort(arr):\n",
    "    if len(arr) <= 1:\n",
    "        return arr\n",
    "    pivot = np.random.choice(arr)\n",
    "    left = arr[arr < pivot]\n",
    "    middle = arr[arr == pivot]\n",
    "    right = arr[arr > pivot]\n",
    "    return np.concatenate((quicksort(left), middle, quicksort(right)))\n"
   ]
  },
  {
   "cell_type": "code",
   "execution_count": 4,
   "metadata": {
    "colab": {
     "base_uri": "https://localhost:8080/"
    },
    "id": "6-u3ecEzSsJF",
    "outputId": "a3c2b611-8de2-4d4e-809c-2a4f9eda2e63"
   },
   "outputs": [
    {
     "name": "stdout",
     "output_type": "stream",
     "text": [
      "Enter the lower bound: -100\n",
      "Enter the upper bound: 100\n",
      "Enter the length of the array: 15\n",
      "Original array: [ 70  22 -11 -36  40 -47 -77 -72 -85 -80  -3   2 -59 -14  84]\n",
      "Sorted array using np.sort: [-85 -80 -77 -72 -59 -47 -36 -14 -11  -3   2  22  40  70  84]\n",
      "Sorted array using algorithm: [-85 -80 -77 -72 -59 -47 -36 -14 -11  -3   2  22  40  70  84]\n"
     ]
    }
   ],
   "source": [
    "arr = generate_random_array()\n",
    "print(\"Original array:\", arr)\n",
    "\n",
    "# with np.sort\n",
    "sorted_arr_np = np.sort(arr, kind='quicksort')\n",
    "print(\"Sorted array using np.sort:\", sorted_arr_np)\n",
    "\n",
    "# with algorithm\n",
    "sorted_arr = quicksort(arr)\n",
    "print(\"Sorted array using algorithm:\", sorted_arr)"
   ]
  },
  {
   "cell_type": "markdown",
   "metadata": {
    "id": "CrVCIcimUUxS"
   },
   "source": [
    "# Heap Sort"
   ]
  },
  {
   "cell_type": "code",
   "execution_count": 5,
   "metadata": {
    "id": "TNDKbTwMUftG"
   },
   "outputs": [],
   "source": [
    "# Algorithm\n",
    "def heapify(arr, n, i):\n",
    "    largest = i\n",
    "    l = 2 * i + 1\n",
    "    r = 2 * i + 2\n",
    "\n",
    "    if l < n and arr[l] > arr[largest]:\n",
    "        largest = l\n",
    "\n",
    "    if r < n and arr[r] > arr[largest]:\n",
    "        largest = r\n",
    "\n",
    "    if largest != i:\n",
    "        arr[i], arr[largest] = arr[largest], arr[i]\n",
    "        heapify(arr, n, largest)\n",
    "\n",
    "def heapsort(arr):\n",
    "    n = len(arr)\n",
    "\n",
    "    # Build a maxheap.\n",
    "    for i in range(n // 2 - 1, -1, -1):\n",
    "        heapify(arr, n, i)\n",
    "\n",
    "    # Extract elements one by one.\n",
    "    for i in range(n - 1, 0, -1):\n",
    "        arr[i], arr[0] = arr[0], arr[i]  # Swap\n",
    "        heapify(arr, i, 0)\n"
   ]
  },
  {
   "cell_type": "code",
   "execution_count": 6,
   "metadata": {
    "colab": {
     "base_uri": "https://localhost:8080/"
    },
    "id": "x_p0cNu-WpkZ",
    "outputId": "902ef8e4-5c8d-4112-d9a6-541da99f8ec3"
   },
   "outputs": [
    {
     "name": "stdout",
     "output_type": "stream",
     "text": [
      "Enter the lower bound: 1\n",
      "Enter the upper bound: 10000\n",
      "Enter the length of the array: 15\n",
      "Original array: [1536 1186 4057 1534 5636 7703 6245 4011 7826 2611 9400 3259 8271 7589\n",
      " 8741]\n",
      "Sorted array using np.sort: [1186 1534 1536 2611 3259 4011 4057 5636 6245 7589 7703 7826 8271 8741\n",
      " 9400]\n",
      "Sorted array using algorithm: [1186 1534 1536 2611 3259 4011 4057 5636 6245 7589 7703 7826 8271 8741\n",
      " 9400]\n"
     ]
    }
   ],
   "source": [
    "arr = generate_random_array()\n",
    "print(\"Original array:\", arr)\n",
    "\n",
    "# with np.sort\n",
    "sorted_arr_np = np.sort(arr, kind='heapsort')\n",
    "print(\"Sorted array using np.sort:\", sorted_arr_np)\n",
    "\n",
    "# with algorithm\n",
    "heapsort(arr)\n",
    "print(\"Sorted array using algorithm:\", arr)"
   ]
  },
  {
   "cell_type": "markdown",
   "metadata": {
    "id": "g4ha54fqZ0_P"
   },
   "source": [
    "# Merge Sort"
   ]
  },
  {
   "cell_type": "code",
   "execution_count": 7,
   "metadata": {
    "id": "xrmW5_f4Uffb"
   },
   "outputs": [],
   "source": [
    "# Algorithm\n",
    "def mergesort(arr):\n",
    "    if len(arr) <= 1:\n",
    "        return arr\n",
    "    mid = len(arr) // 2\n",
    "    left_half = mergesort(arr[:mid])\n",
    "    right_half = mergesort(arr[mid:])\n",
    "    return merge(left_half, right_half)\n",
    "\n",
    "def merge(left, right):\n",
    "    result = []\n",
    "    i, j = 0, 0\n",
    "    while i < len(left) and j < len(right):\n",
    "        if left[i] < right[j]:\n",
    "            result.append(left[i])\n",
    "            i += 1\n",
    "        else:\n",
    "            result.append(right[j])\n",
    "            j += 1\n",
    "    result.extend(left[i:])\n",
    "    result.extend(right[j:])\n",
    "    return result"
   ]
  },
  {
   "cell_type": "code",
   "execution_count": 8,
   "metadata": {
    "colab": {
     "base_uri": "https://localhost:8080/"
    },
    "id": "9eCmRIPVaeP0",
    "outputId": "aa559b76-1113-4b9b-cfec-8926e5210596"
   },
   "outputs": [
    {
     "name": "stdout",
     "output_type": "stream",
     "text": [
      "Enter the lower bound: -500\n",
      "Enter the upper bound: 500\n",
      "Enter the length of the array: 10\n",
      "Original array: [ 146  -45   29  441  111 -399 -235 -426  456 -311]\n",
      "Sorted array using np: [-426 -399 -311 -235  -45   29  111  146  441  456]\n",
      "Sorted array using algorithm: [-426, -399, -311, -235, -45, 29, 111, 146, 441, 456]\n"
     ]
    }
   ],
   "source": [
    "arr = generate_random_array()\n",
    "print(\"Original array:\", arr)\n",
    "\n",
    "# np.sort\n",
    "sorted_arr_np = np.sort(arr, kind='mergesort')\n",
    "print(\"Sorted array using np:\", sorted_arr_np)\n",
    "\n",
    "# algorithm\n",
    "sorted_arr = mergesort(arr)\n",
    "print(\"Sorted array using algorithm:\", sorted_arr)"
   ]
  },
  {
   "cell_type": "markdown",
   "metadata": {
    "id": "fUcyUagFa6dg"
   },
   "source": [
    "# Comparison of Time Execution"
   ]
  },
  {
   "cell_type": "code",
   "execution_count": 9,
   "metadata": {
    "colab": {
     "base_uri": "https://localhost:8080/"
    },
    "id": "jqHamugwbM7p",
    "outputId": "34658a5b-b5cf-4d7f-dcb9-cea971c4c2f6"
   },
   "outputs": [
    {
     "name": "stdout",
     "output_type": "stream",
     "text": [
      "Enter the lower bound: -1000000000\n",
      "Enter the upper bound: 1000000000\n",
      "Enter the length of the array: 100000000\n",
      "Quick Sort Time: 19.067 seconds\n",
      "Heap Sort Time: 51.897 seconds\n",
      "Merge Sort Time: 27.978 seconds\n"
     ]
    }
   ],
   "source": [
    "arr = generate_random_array()\n",
    "\n",
    "start_quicksort = perf_counter()\n",
    "quicksorted_array = np.sort(arr, kind='quicksort')\n",
    "end_quicksort = perf_counter()\n",
    "\n",
    "start_heapsort = perf_counter()\n",
    "heapsorted_array = np.sort(arr, kind='heapsort')\n",
    "end_heapsort = perf_counter()\n",
    "\n",
    "start_mergesort = perf_counter()\n",
    "mergesorted_array = np.sort(arr, kind='mergesort')\n",
    "end_mergesort = perf_counter()\n",
    "\n",
    "print(#'Sorted array in quicksort:\\n', quicksorted_array,\n",
    "      f'Quick Sort Time: {(end_quicksort - start_quicksort):.3f} seconds')\n",
    "\n",
    "print(#'Sorted array in heapsort:\\n', heapsorted_array,\n",
    "      f'Heap Sort Time: {(end_heapsort - start_heapsort):.3f} seconds')\n",
    "\n",
    "print(#'Sorted array in mergesort:\\n', mergesorted_array,\n",
    "      f'Merge Sort Time: {(end_mergesort - start_mergesort):.3f} seconds')"
   ]
  }
 ],
 "metadata": {
  "colab": {
   "provenance": []
  },
  "kernelspec": {
   "display_name": "Python 3",
   "language": "python",
   "name": "python3"
  },
  "language_info": {
   "codemirror_mode": {
    "name": "ipython",
    "version": 3
   },
   "file_extension": ".py",
   "mimetype": "text/x-python",
   "name": "python",
   "nbconvert_exporter": "python",
   "pygments_lexer": "ipython3",
   "version": "3.7.0"
  }
 },
 "nbformat": 4,
 "nbformat_minor": 1
}
