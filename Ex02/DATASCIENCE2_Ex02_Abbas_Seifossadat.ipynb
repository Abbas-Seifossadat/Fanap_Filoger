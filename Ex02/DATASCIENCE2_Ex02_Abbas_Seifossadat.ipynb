{
  "nbformat": 4,
  "nbformat_minor": 0,
  "metadata": {
    "colab": {
      "provenance": []
    },
    "kernelspec": {
      "name": "python3",
      "display_name": "Python 3"
    },
    "language_info": {
      "name": "python"
    }
  },
  "cells": [
    {
      "cell_type": "code",
      "source": [
        "import numpy as np"
      ],
      "metadata": {
        "id": "MTBl3eZAsDSr"
      },
      "execution_count": 1,
      "outputs": []
    },
    {
      "cell_type": "code",
      "execution_count": 2,
      "metadata": {
        "id": "Ndzk-SwzrvLA"
      },
      "outputs": [],
      "source": [
        "# Functions\n",
        "def generate_random_number():\n",
        "    random_number = np.random.randint(0, 101)\n",
        "    # random_number = np.random.uniform(0, 100)\n",
        "    return random_number\n",
        "\n",
        "\n",
        "def create_random_array(length):\n",
        "    random_array = np.array([generate_random_number() for _ in range(length)])\n",
        "    return random_array\n",
        "\n",
        "\n",
        "def win_or_fail(array):\n",
        "    max_value = np.max(array)\n",
        "    if max_value > 70:\n",
        "        return \"Congratulations, you win! The maximum value is: \" + str(max_value)\n",
        "    else:\n",
        "        return \"Sorry, you lose. The maximum value is: \" + str(max_value)\n"
      ]
    },
    {
      "cell_type": "code",
      "source": [
        "try:\n",
        "    length = int(input(\"Enter a number: \"))\n",
        "    random_result = create_random_array(length)\n",
        "    result_message = win_or_fail(random_result)\n",
        "    print(result_message)\n",
        "except ValueError:\n",
        "    print('Error!\\n','Please enter a valid integer!')"
      ],
      "metadata": {
        "colab": {
          "base_uri": "https://localhost:8080/"
        },
        "id": "xoMv5EWisGhC",
        "outputId": "6f00cc53-7c53-46cc-d4e6-7a0ef780bbeb"
      },
      "execution_count": 9,
      "outputs": [
        {
          "output_type": "stream",
          "name": "stdout",
          "text": [
            "Enter a number: 2\n",
            "Sorry, you lose. The maximum value is: 66\n"
          ]
        }
      ]
    },
    {
      "cell_type": "code",
      "source": [
        "# also, we can use another function for the above code:\n",
        "def generate_and_check():\n",
        "    try:\n",
        "        length = int(input(\"Enter a number: \"))\n",
        "        random_result = create_random_array(length)\n",
        "        result_message = win_or_fail(random_result)\n",
        "        print(result_message)\n",
        "    except ValueError:\n",
        "        print('Error!\\n','Please enter a valid integer!')\n"
      ],
      "metadata": {
        "id": "xcBSt7T5sO5j"
      },
      "execution_count": 10,
      "outputs": []
    },
    {
      "cell_type": "code",
      "source": [
        "Numpy_Game = generate_and_check()"
      ],
      "metadata": {
        "colab": {
          "base_uri": "https://localhost:8080/"
        },
        "id": "6bPAC8s8s6Z4",
        "outputId": "060a1f18-2631-42cc-c37d-6c0a2f0e653a"
      },
      "execution_count": 11,
      "outputs": [
        {
          "output_type": "stream",
          "name": "stdout",
          "text": [
            "Enter a number: 3\n",
            "Congratulations, you win! The maximum value is: 78\n"
          ]
        }
      ]
    }
  ]
}