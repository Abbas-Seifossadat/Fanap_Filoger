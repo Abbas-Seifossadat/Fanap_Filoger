{
  "nbformat": 4,
  "nbformat_minor": 0,
  "metadata": {
    "colab": {
      "provenance": []
    },
    "kernelspec": {
      "name": "python3",
      "display_name": "Python 3"
    },
    "language_info": {
      "name": "python"
    }
  },
  "cells": [
    {
      "cell_type": "markdown",
      "source": [
        "# extra\n",
        "## OOP"
      ],
      "metadata": {
        "id": "aI7-IRIGyXUp"
      }
    },
    {
      "cell_type": "code",
      "source": [
        "import numpy as np"
      ],
      "metadata": {
        "id": "MTBl3eZAsDSr"
      },
      "execution_count": 1,
      "outputs": []
    },
    {
      "cell_type": "code",
      "execution_count": 12,
      "metadata": {
        "id": "Ndzk-SwzrvLA"
      },
      "outputs": [],
      "source": [
        "# create clas\n",
        "class NumpyGame:\n",
        "    \"\"\"\n",
        "    It is an ObjectOrientedProgramming.\n",
        "\n",
        "    This class contains functions to analyze the numpy game according to exercise 2.\n",
        "\n",
        "    Attributes:\n",
        "        None\n",
        "    ------------------------------------------\n",
        "    \"\"\"\n",
        "\n",
        "    def __init__(self):\n",
        "        pass\n",
        "\n",
        "    def generate_random_number(self):\n",
        "        \"\"\"\n",
        "        In generate_random_number Function Generates a random number between 0 and 100.\n",
        "\n",
        "        Args:\n",
        "            None\n",
        "\n",
        "        Returns:\n",
        "            int: A random integger number between 0 and 100.\n",
        "        ------------------------------------------\n",
        "        \"\"\"\n",
        "        return np.random.randint(0, 101)\n",
        "\n",
        "    def create_random_array(self, length):\n",
        "        \"\"\"\n",
        "        In create_random_array Function Creates an array of random numbers.\n",
        "\n",
        "        Args:\n",
        "            length (int): The length of the random array.\n",
        "\n",
        "        Returns:\n",
        "            numpy.ndarray: An array of random numbers.\n",
        "        ---------------------------------------------\n",
        "        \"\"\"\n",
        "        random_array = np.array([self.generate_random_number() for _ in range(length)])\n",
        "        return random_array\n",
        "\n",
        "    def win_or_fail(self, array):\n",
        "        \"\"\"\n",
        "        win_or_fail Function determines wins or fails based on the array's maximum value.\n",
        "\n",
        "        Args:\n",
        "            array (numpy.ndarray): The input array of random numbers.\n",
        "\n",
        "        Returns:\n",
        "            str: A message indicating whether the player has won or failed based on the maximum value in the array.\n",
        "        \"\"\"\n",
        "        max_value = np.max(array)\n",
        "        if max_value > 70:\n",
        "            return \"Congratulations, you win! The maximum value is: \" + str(max_value)\n",
        "        else:\n",
        "            return \"Sorry, you lose. The maximum value is: \" + str(max_value)"
      ]
    },
    {
      "cell_type": "code",
      "source": [
        "# String Doc\n",
        "print(NumpyGame.__doc__)\n",
        "print(NumpyGame.generate_random_number.__doc__)\n",
        "print(NumpyGame.create_random_array.__doc__)\n",
        "print(NumpyGame.win_or_fail.__doc__)"
      ],
      "metadata": {
        "colab": {
          "base_uri": "https://localhost:8080/"
        },
        "id": "xoMv5EWisGhC",
        "outputId": "825ebe05-3cff-4899-e911-8ccb8750baf7"
      },
      "execution_count": 13,
      "outputs": [
        {
          "output_type": "stream",
          "name": "stdout",
          "text": [
            "\n",
            "    It is an ObjectOrientedProgramming.\n",
            "\n",
            "    This class contains functions to analyze the numpy game according to exercise 2.\n",
            "\n",
            "    Attributes:\n",
            "        None\n",
            "    ------------------------------------------\n",
            "    \n",
            "\n",
            "        In generate_random_number Function Generates a random number between 0 and 100.\n",
            "\n",
            "        Args:\n",
            "            None\n",
            "\n",
            "        Returns:\n",
            "            int: A random integger number between 0 and 100.\n",
            "        ------------------------------------------\n",
            "        \n",
            "\n",
            "        In create_random_array Function Creates an array of random numbers.\n",
            "\n",
            "        Args:\n",
            "            length (int): The length of the random array.\n",
            "\n",
            "        Returns:\n",
            "            numpy.ndarray: An array of random numbers.\n",
            "        ---------------------------------------------\n",
            "        \n",
            "\n",
            "        win_or_fail Function determines wins or fails based on the array's maximum value.\n",
            "\n",
            "        Args:\n",
            "            array (numpy.ndarray): The input array of random numbers.\n",
            "\n",
            "        Returns:\n",
            "            str: A message indicating whether the player has won or failed based on the maximum value in the array.\n",
            "        \n"
          ]
        }
      ]
    },
    {
      "cell_type": "code",
      "source": [
        "# Create an instance of the class\n",
        "analyzer = NumpyGame()\n",
        "\n",
        "# Usage example\n",
        "try:\n",
        "    length = int(input(\"Please Enter a Number: \"))\n",
        "    random_result = analyzer.create_random_array(length)\n",
        "    print(\"Random array: \", random_result)\n",
        "    result_message = analyzer.win_or_fail(random_result)\n",
        "    print(result_message)\n",
        "except ValueError:\n",
        "    print('Error!\\n', 'Please enter a valid integer!')\n"
      ],
      "metadata": {
        "colab": {
          "base_uri": "https://localhost:8080/"
        },
        "id": "S7xN6PmLy86z",
        "outputId": "5f0d7bd4-df4a-4f1f-f046-a388eadf88a8"
      },
      "execution_count": 14,
      "outputs": [
        {
          "output_type": "stream",
          "name": "stdout",
          "text": [
            "Please Enter a Number: 2\n",
            "Random array:  [57 90]\n",
            "Congratulations, you win! The maximum value is: 90\n"
          ]
        }
      ]
    },
    {
      "cell_type": "code",
      "source": [
        "import argparse\n",
        "\n",
        "# Create an ArgumentParser object\n",
        "parser = argparse.ArgumentParser(description='Numpy Game Analyzer App')\n",
        "\n",
        "# Add an argument\n",
        "parser.add_argument('length', type=int, help='Length of the random array')\n",
        "\n",
        "# Parse the arguments\n",
        "args = parser.parse_args([\"2\"])  # You can provide your desired length as a string in the list\n",
        "\n",
        "# Access the parsed arguments\n",
        "print('input argument (length of random array) is :', args.length)  # This will print the length of the random array\n",
        "\n",
        "random_result = analyzer.create_random_array(args.length)\n",
        "print(\"Random array: \", random_result)\n",
        "result_message = analyzer.win_or_fail(random_result)\n",
        "print(result_message)"
      ],
      "metadata": {
        "colab": {
          "base_uri": "https://localhost:8080/"
        },
        "id": "xcBSt7T5sO5j",
        "outputId": "cbb084a3-d5e5-44da-eb88-674cfe9cc735"
      },
      "execution_count": 16,
      "outputs": [
        {
          "output_type": "stream",
          "name": "stdout",
          "text": [
            "input argument (length of random array) is : 2\n",
            "Random array:  [19 30]\n",
            "Sorry, you lose. The maximum value is: 30\n"
          ]
        }
      ]
    }
  ]
}