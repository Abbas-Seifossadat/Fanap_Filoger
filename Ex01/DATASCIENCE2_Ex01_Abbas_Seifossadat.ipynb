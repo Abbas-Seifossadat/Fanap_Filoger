{
  "nbformat": 4,
  "nbformat_minor": 0,
  "metadata": {
    "colab": {
      "provenance": []
    },
    "kernelspec": {
      "name": "python3",
      "display_name": "Python 3"
    },
    "language_info": {
      "name": "python"
    }
  },
  "cells": [
    {
      "cell_type": "markdown",
      "source": [
        "# Without using def"
      ],
      "metadata": {
        "id": "ST36KmzFaJZO"
      }
    },
    {
      "cell_type": "code",
      "source": [
        "import random"
      ],
      "metadata": {
        "id": "xrGu2WMwdf2r"
      },
      "execution_count": 6,
      "outputs": []
    },
    {
      "cell_type": "code",
      "source": [
        "LOWER = 1\n",
        "UPPER = 100\n",
        "print('!'+'به مسابقه حدس اعداد خوش آمدید')\n",
        "computer_guess = random.randint(LOWER, UPPER)\n",
        "for i in range(0, 5):\n",
        "    user_guess = 0\n",
        "    while user_guess == 0:\n",
        "        try:\n",
        "            user_guess = int(input('لطفا یک عدد بین 1 تا 100 حدس بزنید: '))\n",
        "            if user_guess > 100 or user_guess < 1:\n",
        "                print('!!!'+'حدس شما عددی بیش از 100 یا کمتر از 0 است')\n",
        "                user_guess = 0\n",
        "        except:\n",
        "            print('!'+'توجه شود که حدس شما نباید به صورت اعشاری یا به حروف باشد')\n",
        "\n",
        "    if user_guess == computer_guess:\n",
        "        print('هوراااااا \\n شما برنده شدید')\n",
        "        break\n",
        "    else:\n",
        "        print('نه!!! اشتباه حدس زدید')\n",
        "        if user_guess < computer_guess:\n",
        "            print('حدس شما از عدد مدنظر کوچکتر است')\n",
        "        elif user_guess > computer_guess:\n",
        "            print('حدس شما از عدد مدنظر بزرگتر است')\n",
        "        print('شما {} بار دیگر شانس مجدد دارید'.format(4 - i))\n",
        "else:\n",
        "    print('متاسفانه شما باختید. عدد مدنظر {} بود!'.format(computer_guess))\n"
      ],
      "metadata": {
        "colab": {
          "base_uri": "https://localhost:8080/"
        },
        "id": "Ar18TmdMaJD1",
        "outputId": "796934c3-c385-4c4a-ab81-749b5bc52195"
      },
      "execution_count": 8,
      "outputs": [
        {
          "output_type": "stream",
          "name": "stdout",
          "text": [
            "!به مسابقه حدس اعداد خوش آمدید\n",
            "لطفا یک عدد بین 1 تا 100 حدس بزنید: 200\n",
            "!!!حدس شما عددی بیش از 100 یا کمتر از 0 است\n",
            "لطفا یک عدد بین 1 تا 100 حدس بزنید: ده\n",
            "!توجه شود که حدس شما نباید به صورت اعشاری یا به حروف باشد\n",
            "لطفا یک عدد بین 1 تا 100 حدس بزنید: 50\n",
            "نه!!! اشتباه حدس زدید\n",
            "حدس شما از عدد مدنظر بزرگتر است\n",
            "شما 4 بار دیگر شانس مجدد دارید\n",
            "لطفا یک عدد بین 1 تا 100 حدس بزنید: 25\n",
            "نه!!! اشتباه حدس زدید\n",
            "حدس شما از عدد مدنظر کوچکتر است\n",
            "شما 3 بار دیگر شانس مجدد دارید\n",
            "لطفا یک عدد بین 1 تا 100 حدس بزنید: 35\n",
            "نه!!! اشتباه حدس زدید\n",
            "حدس شما از عدد مدنظر بزرگتر است\n",
            "شما 2 بار دیگر شانس مجدد دارید\n",
            "لطفا یک عدد بین 1 تا 100 حدس بزنید: 30\n",
            "نه!!! اشتباه حدس زدید\n",
            "حدس شما از عدد مدنظر کوچکتر است\n",
            "شما 1 بار دیگر شانس مجدد دارید\n",
            "لطفا یک عدد بین 1 تا 100 حدس بزنید: 33\n",
            "نه!!! اشتباه حدس زدید\n",
            "حدس شما از عدد مدنظر بزرگتر است\n",
            "شما 0 بار دیگر شانس مجدد دارید\n",
            "متاسفانه شما باختید. عدد مدنظر 32 بود!\n"
          ]
        }
      ]
    },
    {
      "cell_type": "markdown",
      "source": [
        "# with using def"
      ],
      "metadata": {
        "id": "tBzj2HpaaOMU"
      }
    },
    {
      "cell_type": "code",
      "source": [
        "def guess_number():\n",
        "    LOWER = 1\n",
        "    UPPER = 100\n",
        "    print('!'+'به مسابقه حدس اعداد خوش آمدید')\n",
        "    computer_guess = random.randint(LOWER, UPPER)\n",
        "    for i in range(0, 5):\n",
        "      user_guess = 0\n",
        "      while user_guess == 0:\n",
        "          try:\n",
        "              user_guess = int(input('لطفا یک عدد بین 1 تا 100 حدس بزنید: '))\n",
        "              if user_guess > 100 or user_guess < 1:\n",
        "                  print('!!!'+'حدس شما عددی بیش از 100 یا کمتر از 0 است')\n",
        "                  user_guess = 0\n",
        "          except:\n",
        "              print('!'+'توجه شود که حدس شما نباید به صورت اعشاری یا به حروف باشد')\n",
        "\n",
        "      if user_guess == computer_guess:\n",
        "          print('هوراااااا \\n شما برنده شدید')\n",
        "          break\n",
        "      else:\n",
        "          print('نه!!! اشتباه حدس زدید')\n",
        "          if user_guess < computer_guess:\n",
        "              print('حدس شما از عدد مدنظر کوچکتر است')\n",
        "          elif user_guess > computer_guess:\n",
        "              print('حدس شما از عدد مدنظر بزرگتر است')\n",
        "          print('شما {} بار دیگر شانس مجدد دارید'.format(4 - i))\n",
        "    else:\n",
        "      print('متاسفانه شما باختید. عدد مدنظر {} بود!'.format(computer_guess))\n"
      ],
      "metadata": {
        "id": "IdHjLkwIcUzU"
      },
      "execution_count": 9,
      "outputs": []
    },
    {
      "cell_type": "code",
      "source": [
        "#Call\n",
        "guess_number()"
      ],
      "metadata": {
        "colab": {
          "base_uri": "https://localhost:8080/"
        },
        "id": "0ZE2y0JkdTIQ",
        "outputId": "5f4d3b6b-dc98-45a4-837c-f440ee99977e"
      },
      "execution_count": 10,
      "outputs": [
        {
          "output_type": "stream",
          "name": "stdout",
          "text": [
            "!به مسابقه حدس اعداد خوش آمدید\n",
            "لطفا یک عدد بین 1 تا 100 حدس بزنید: 50\n",
            "نه!!! اشتباه حدس زدید\n",
            "حدس شما از عدد مدنظر بزرگتر است\n",
            "شما 4 بار دیگر شانس مجدد دارید\n",
            "لطفا یک عدد بین 1 تا 100 حدس بزنید: 25\n",
            "نه!!! اشتباه حدس زدید\n",
            "حدس شما از عدد مدنظر بزرگتر است\n",
            "شما 3 بار دیگر شانس مجدد دارید\n",
            "لطفا یک عدد بین 1 تا 100 حدس بزنید: 12\n",
            "نه!!! اشتباه حدس زدید\n",
            "حدس شما از عدد مدنظر بزرگتر است\n",
            "شما 2 بار دیگر شانس مجدد دارید\n",
            "لطفا یک عدد بین 1 تا 100 حدس بزنید: 7\n",
            "هوراااااا \n",
            " شما برنده شدید\n"
          ]
        }
      ]
    }
  ]
}